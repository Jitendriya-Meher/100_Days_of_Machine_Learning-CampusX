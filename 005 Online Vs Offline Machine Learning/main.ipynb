{
 "cells": [
  {
   "cell_type": "markdown",
   "id": "0970fca1",
   "metadata": {},
   "source": [
    "⚙️ 1. Offline Machine Learning (Batch Learning)\n",
    "\n",
    "Definition: The model is trained once on a complete, static dataset and doesn’t update until retrained.\n",
    "\n",
    "Data Requirement: Needs all data available before training.\n",
    "\n",
    "Training: Done in batches, typically offline.\n",
    "\n",
    "Update Frequency: Manual or periodic retraining required when new data arrives.\n",
    "\n",
    "Use Case: Stable problems where data changes slowly over time.\n",
    "\n",
    "✅ Examples:\n",
    "\n",
    "Image classification (e.g., training on ImageNet)\n",
    "\n",
    "Predicting house prices using historical data\n",
    "\n",
    "🌐 2. Online Machine Learning (Incremental Learning)\n",
    "\n",
    "Definition: The model is trained continuously or in small increments as new data becomes available.\n",
    "\n",
    "Data Requirement: Does not need all data upfront.\n",
    "\n",
    "Training: Real-time or near-real-time, one instance or mini-batch at a time.\n",
    "\n",
    "Update Frequency: Continuous, with each new data point.\n",
    "\n",
    "Use Case: Dynamic environments where data changes rapidly.\n",
    "\n",
    "✅ Examples:\n",
    "\n",
    "Stock price prediction\n",
    "\n",
    "Real-time fraud detection\n",
    "\n",
    "News recommendation systems"
   ]
  }
 ],
 "metadata": {
  "language_info": {
   "name": "python"
  }
 },
 "nbformat": 4,
 "nbformat_minor": 5
}
