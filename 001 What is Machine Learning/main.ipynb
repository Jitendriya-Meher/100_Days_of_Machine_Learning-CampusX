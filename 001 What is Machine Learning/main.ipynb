{
 "cells": [
  {
   "cell_type": "markdown",
   "id": "fe071f74",
   "metadata": {},
   "source": [
    "Machine Learning (ML) is a subset of artificial intelligence (AI) that enables computers to learn from data and make decisions or predictions without being explicitly programmed to perform a specific task."
   ]
  },
  {
   "cell_type": "markdown",
   "id": "2f6dc72b",
   "metadata": {},
   "source": [
    "Instead of writing code to tell a computer exactly what to do, you give it lots of data and a general algorithm. The computer then uses patterns in the data to figure out how to perform the task."
   ]
  },
  {
   "cell_type": "markdown",
   "id": "c8060e63",
   "metadata": {},
   "source": [
    "Key Concepts:\n",
    "\n",
    "Data – The foundation of ML. It includes examples the machine learns from.\n",
    "\n",
    "Model – The mathematical structure that learns patterns from the data.\n",
    "\n",
    "Training – The process where the model learns by adjusting itself to minimize errors on known data.\n",
    "\n",
    "Prediction – Once trained, the model can make predictions or decisions on new, unseen data."
   ]
  },
  {
   "cell_type": "markdown",
   "id": "4324510d",
   "metadata": {},
   "source": [
    "Types of Machine Learning:\n",
    "\n",
    "Supervised Learning – The model learns from labeled data (e.g., predicting house prices).\n",
    "\n",
    "Unsupervised Learning – The model finds hidden patterns in unlabeled data (e.g., customer segmentation).\n",
    "\n",
    "Reinforcement Learning – The model learns by trial and error, receiving rewards or penalties (e.g., training robots or game AIs)."
   ]
  }
 ],
 "metadata": {
  "language_info": {
   "name": "python"
  }
 },
 "nbformat": 4,
 "nbformat_minor": 5
}
