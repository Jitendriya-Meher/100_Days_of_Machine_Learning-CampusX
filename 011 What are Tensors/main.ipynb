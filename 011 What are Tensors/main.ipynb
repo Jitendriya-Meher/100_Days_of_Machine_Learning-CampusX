{
 "cells": [
  {
   "cell_type": "markdown",
   "id": "4a159c3e",
   "metadata": {},
   "source": [
    "Tensors are a generalization of scalars, vectors, and matrices — they are the fundamental data structure in machine learning, especially in deep learning (e.g., TensorFlow, PyTorch)."
   ]
  },
  {
   "cell_type": "code",
   "execution_count": 15,
   "id": "b348b0b2",
   "metadata": {},
   "outputs": [],
   "source": [
    "import numpy as np"
   ]
  },
  {
   "cell_type": "code",
   "execution_count": 16,
   "id": "336abe40",
   "metadata": {},
   "outputs": [
    {
     "name": "stdout",
     "output_type": "stream",
     "text": [
      "4\n",
      "dim :  0\n"
     ]
    }
   ],
   "source": [
    "# 0 d tensor\n",
    "\n",
    "a = np.array(4)\n",
    "\n",
    "print(a)\n",
    "\n",
    "print( 'dim : ' ,a.ndim)"
   ]
  },
  {
   "cell_type": "code",
   "execution_count": 17,
   "id": "6c4c5968",
   "metadata": {},
   "outputs": [
    {
     "name": "stdout",
     "output_type": "stream",
     "text": [
      "[1 3 4]\n",
      "dim :  1\n"
     ]
    }
   ],
   "source": [
    "# 1 d tensor\n",
    "# vector\n",
    "\n",
    "a = np.array([1,3,4])\n",
    "\n",
    "print(a)\n",
    "\n",
    "print( 'dim : ' ,a.ndim)"
   ]
  },
  {
   "cell_type": "code",
   "execution_count": 18,
   "id": "359e704a",
   "metadata": {},
   "outputs": [
    {
     "name": "stdout",
     "output_type": "stream",
     "text": [
      "[[1 3 4]\n",
      " [0 4 5]]\n",
      "dim :  2\n",
      "shape : (2, 3)\n"
     ]
    }
   ],
   "source": [
    "# 2 d tensor\n",
    "# matrices\n",
    "\n",
    "a = np.array([[1,3,4],[0,4,5]])\n",
    "\n",
    "print(a)\n",
    "\n",
    "print( 'dim : ' ,a.ndim)\n",
    "\n",
    "print( 'shape :', a.shape)\n",
    "\n"
   ]
  },
  {
   "cell_type": "code",
   "execution_count": null,
   "id": "2689fbe6",
   "metadata": {},
   "outputs": [
    {
     "name": "stdout",
     "output_type": "stream",
     "text": [
      "[[[[1 3 4]\n",
      "   [0 4 5]]\n",
      "\n",
      "  [[1 3 4]\n",
      "   [0 4 5]]]]\n",
      "dim :  4\n",
      "rank : 4\n",
      "shape : (1, 2, 2, 3)\n"
     ]
    }
   ],
   "source": [
    "# n d tensor\n",
    "\n",
    "a = np.array([[[[1,3,4],[0,4,5]],[[1,3,4],[0,4,5]]]])\n",
    "\n",
    "print(a)\n",
    "\n",
    "print( 'dim : ' ,a.ndim)\n",
    "\n",
    "print( 'rank :', a.ndim)\n",
    "\n",
    "print( 'shape :', a.shape)"
   ]
  },
  {
   "cell_type": "markdown",
   "id": "6e6205ad",
   "metadata": {},
   "source": [
    "| Tensor Type    | Rank | Example Shape       | Description                    |\n",
    "| -------------- | ---- | ------------------- | ------------------------------ |\n",
    "| **Scalar**     | 0    | `()`                | A single number (e.g., `5`)    |\n",
    "| **Vector**     | 1    | `(n,)`              | A 1D array (e.g., `[1, 2, 3]`) |\n",
    "| **Matrix**     | 2    | `(m, n)`            | A 2D array (e.g., table)       |\n",
    "| **3D Tensor**  | 3    | `(m, n, p)`         | Stack of matrices              |\n",
    "| **n-D Tensor** | n    | `(d1, d2, ..., dn)` | Any n-dimensional array        |\n"
   ]
  },
  {
   "cell_type": "markdown",
   "id": "827423e4",
   "metadata": {},
   "source": [
    "📌 Why Tensors Are Important in ML:\n",
    "\n",
    "Input to neural networks is usually a tensor (e.g., images, text, audio).\n",
    "\n",
    "Model weights and activations are stored as tensors.\n",
    "\n",
    "Tensor operations are highly optimized on GPUs."
   ]
  },
  {
   "cell_type": "markdown",
   "id": "4b39ef22",
   "metadata": {},
   "source": [
    "🧠 Examples in Practice:\n",
    "\n",
    "A grayscale image = 2D tensor (height × width)\n",
    "\n",
    "A color image = 3D tensor (height × width × channels)\n",
    "\n",
    "A batch of images = 4D tensor (batch × height × width × channels)"
   ]
  }
 ],
 "metadata": {
  "kernelspec": {
   "display_name": "Python 3",
   "language": "python",
   "name": "python3"
  },
  "language_info": {
   "codemirror_mode": {
    "name": "ipython",
    "version": 3
   },
   "file_extension": ".py",
   "mimetype": "text/x-python",
   "name": "python",
   "nbconvert_exporter": "python",
   "pygments_lexer": "ipython3",
   "version": "3.12.6"
  }
 },
 "nbformat": 4,
 "nbformat_minor": 5
}
