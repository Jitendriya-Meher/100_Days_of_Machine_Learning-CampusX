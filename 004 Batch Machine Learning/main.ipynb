{
 "cells": [
  {
   "cell_type": "markdown",
   "id": "c9bc48f9",
   "metadata": {},
   "source": [
    "Batch Machine Learning is a learning and prediction approach where the model is trained on a complete dataset all at once, rather than incrementally. Once the model is trained, it is used to make predictions on new data in batches or in one go — not continuously.\n",
    "\n",
    "🧠 Key Characteristics:\n",
    "\n",
    "Offline Learning: The model is trained offline using historical data.\n",
    "\n",
    "Fixed Data: The training dataset doesn't change during learning.\n",
    "\n",
    "Periodic Updates: The model is updated at regular intervals (e.g., weekly or monthly), not in real-time.\n",
    "\n",
    "High Accuracy: Since training uses the entire dataset, models often achieve high accuracy.\n",
    "\n",
    "Resource-Intensive: Requires significant memory and processing time."
   ]
  },
  {
   "cell_type": "markdown",
   "id": "bbba91a0",
   "metadata": {},
   "source": [
    "-----------------------------"
   ]
  },
  {
   "cell_type": "markdown",
   "id": "88809428",
   "metadata": {},
   "source": [
    " Offline Learning (aka Batch Learning)\n",
    "Definition: The model is trained using the entire dataset all at once, then deployed.\n",
    "\n",
    "Learning Style: One-time training on a fixed dataset.\n",
    "\n",
    "Data Flow: Requires full access to data before training.\n",
    "\n",
    "Model Updates: Manual or scheduled retraining is needed.\n",
    "\n",
    "Use Case: When data doesn't change frequently or real-time response isn't required.\n",
    "\n",
    "✅ Pros:\n",
    "High model stability and accuracy.\n",
    "\n",
    "Easier to debug and test before deployment.\n",
    "\n",
    "❌ Cons:\n",
    "Can't adapt to new data quickly.\n",
    "\n",
    "Resource-intensive (needs large memory/computation).\n",
    "\n",
    "🌐 Online Learning\n",
    "Definition: The model learns incrementally, updating continuously as new data arrives.\n",
    "\n",
    "Learning Style: Data is processed in small batches or one instance at a time.\n",
    "\n",
    "Data Flow: Real-time or streaming input.\n",
    "\n",
    "Model Updates: Automatic, happens during prediction or after receiving new data.\n",
    "\n",
    "Use Case: When data is constantly changing or time-sensitive (e.g., fraud detection, stock trading).\n",
    "\n",
    "✅ Pros:\n",
    "Adapts quickly to new data.\n",
    "\n",
    "Efficient for large or continuous datasets.\n",
    "\n",
    "❌ Cons:\n",
    "May be less stable (risk of learning from noise).\n",
    "\n",
    "Harder to debug or test."
   ]
  }
 ],
 "metadata": {
  "language_info": {
   "name": "python"
  }
 },
 "nbformat": 4,
 "nbformat_minor": 5
}
