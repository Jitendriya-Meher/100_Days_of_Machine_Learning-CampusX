{
 "cells": [
  {
   "cell_type": "markdown",
   "id": "09fcde27",
   "metadata": {},
   "source": [
    "🧠1. Artificial Intelligence (AI)\n",
    "Definition: A broad field of computer science focused on creating systems capable of performing tasks that normally require human intelligence.\n",
    "\n",
    "Examples: Speech recognition, decision-making, language translation, playing chess.\n",
    "\n",
    "🔹 Includes: Machine Learning, Deep Learning, rule-based systems, expert systems, etc.\n",
    "\n",
    "📊 2. Machine Learning (ML)\n",
    "Definition: A subset of AI that uses statistical techniques to enable machines to learn from data and improve performance over time without being explicitly programmed.\n",
    "\n",
    "Examples: Spam email detection, recommendation systems (like Netflix), fraud detection.\n",
    "\n",
    "🔹 Includes: Algorithms like decision trees, support vector machines, k-nearest neighbors, etc.\n",
    "\n",
    "🧠⚙️ 3. Deep Learning (DL)\n",
    "Definition: A specialized subset of ML that uses artificial neural networks—especially deep (multi-layered) ones—to model complex patterns in data.\n",
    "\n",
    "Examples: Self-driving cars, voice assistants (like Siri), facial recognition, image generation.\n",
    "\n",
    "🔹 Techniques Used: Convolutional Neural Networks (CNNs), Recurrent Neural Networks (RNNs), Transformers, etc."
   ]
  }
 ],
 "metadata": {
  "language_info": {
   "name": "python"
  }
 },
 "nbformat": 4,
 "nbformat_minor": 5
}
